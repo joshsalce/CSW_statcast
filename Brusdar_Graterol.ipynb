{
  "nbformat": 4,
  "nbformat_minor": 0,
  "metadata": {
    "colab": {
      "name": "Brusdar_Graterol.ipynb",
      "provenance": []
    },
    "kernelspec": {
      "name": "python3",
      "display_name": "Python 3"
    },
    "language_info": {
      "name": "python"
    }
  },
  "cells": [
    {
      "cell_type": "code",
      "execution_count": 1,
      "metadata": {
        "colab": {
          "base_uri": "https://localhost:8080/"
        },
        "id": "sRo644GMnmrC",
        "outputId": "5cc0ca41-bbbe-48fa-b171-a31ab34c3f17"
      },
      "outputs": [
        {
          "output_type": "stream",
          "name": "stdout",
          "text": [
            "\u001b[K     |████████████████████████████████| 415 kB 5.0 MB/s \n",
            "\u001b[K     |████████████████████████████████| 291 kB 9.7 MB/s \n",
            "\u001b[K     |████████████████████████████████| 856 kB 9.5 MB/s \n",
            "\u001b[?25h"
          ]
        }
      ],
      "source": [
        "%pip install pybaseball -q"
      ]
    },
    {
      "cell_type": "code",
      "source": [
        "import pybaseball as pyb\n",
        "from pybaseball import statcast\n",
        "from pybaseball import statcast_pitcher, playerid_lookup\n",
        "from pybaseball import pitching_stats_bref, pitching_stats\n",
        "import pandas as pd\n",
        "import numpy as np"
      ],
      "metadata": {
        "id": "xjAJAZ0QnpTP"
      },
      "execution_count": 2,
      "outputs": []
    },
    {
      "cell_type": "code",
      "source": [
        "playerid_lookup('graterol','brusdar')['key_mlbam'][0]"
      ],
      "metadata": {
        "colab": {
          "base_uri": "https://localhost:8080/"
        },
        "id": "UBH8ZQIPnrCk",
        "outputId": "d0aba1e2-c48b-48ba-fd13-85506fa616c2"
      },
      "execution_count": 3,
      "outputs": [
        {
          "output_type": "stream",
          "name": "stdout",
          "text": [
            "Gathering player lookup table. This may take a moment.\n"
          ]
        },
        {
          "output_type": "execute_result",
          "data": {
            "text/plain": [
              "660813"
            ]
          },
          "metadata": {},
          "execution_count": 3
        }
      ]
    },
    {
      "cell_type": "code",
      "source": [
        "graterol = statcast_pitcher('2022-04-08', '2022-06-29', player_id = 660813)"
      ],
      "metadata": {
        "colab": {
          "base_uri": "https://localhost:8080/"
        },
        "id": "hD1ZjKhKnvpI",
        "outputId": "2b23e1a6-3d55-423f-cfb0-58f868416a27"
      },
      "execution_count": 4,
      "outputs": [
        {
          "output_type": "stream",
          "name": "stdout",
          "text": [
            "Gathering Player Data\n"
          ]
        }
      ]
    },
    {
      "cell_type": "code",
      "source": [
        "graterol['pitch_type'].unique()"
      ],
      "metadata": {
        "colab": {
          "base_uri": "https://localhost:8080/"
        },
        "id": "KrsFnwCAnz-_",
        "outputId": "e8ed814f-b8ed-4c30-f64c-0b5b12bb4e3a"
      },
      "execution_count": 5,
      "outputs": [
        {
          "output_type": "execute_result",
          "data": {
            "text/plain": [
              "array(['FC', 'FF', 'SI', 'SL'], dtype=object)"
            ]
          },
          "metadata": {},
          "execution_count": 5
        }
      ]
    },
    {
      "cell_type": "code",
      "source": [
        "graterol.shape[0]"
      ],
      "metadata": {
        "colab": {
          "base_uri": "https://localhost:8080/"
        },
        "id": "GKemqHn2rE4K",
        "outputId": "12bdddf2-d673-4037-aada-504fb5c55e22"
      },
      "execution_count": 15,
      "outputs": [
        {
          "output_type": "execute_result",
          "data": {
            "text/plain": [
              "483"
            ]
          },
          "metadata": {},
          "execution_count": 15
        }
      ]
    },
    {
      "cell_type": "code",
      "source": [
        "graterol[graterol['description'] == 'called_strike'].shape[0]\n",
        "# 263 rows"
      ],
      "metadata": {
        "colab": {
          "base_uri": "https://localhost:8080/"
        },
        "id": "ZYMG2kvsqs5m",
        "outputId": "61025d7b-0791-4244-9216-143982698d93"
      },
      "execution_count": 8,
      "outputs": [
        {
          "output_type": "execute_result",
          "data": {
            "text/plain": [
              "74"
            ]
          },
          "metadata": {},
          "execution_count": 8
        }
      ]
    },
    {
      "cell_type": "code",
      "source": [
        "round((100*(74/483)), 1) #CStr Rate"
      ],
      "metadata": {
        "colab": {
          "base_uri": "https://localhost:8080/"
        },
        "id": "-JfxZQrPrYlv",
        "outputId": "afaa162c-e67d-4559-d7ed-4ae17a971915"
      },
      "execution_count": 9,
      "outputs": [
        {
          "output_type": "execute_result",
          "data": {
            "text/plain": [
              "15.3"
            ]
          },
          "metadata": {},
          "execution_count": 9
        }
      ]
    },
    {
      "cell_type": "code",
      "source": [
        "swinging_strikes = ['swinging_strike_blocked','swinging_strike'] "
      ],
      "metadata": {
        "id": "CkRYlfRXrvV1"
      },
      "execution_count": 11,
      "outputs": []
    },
    {
      "cell_type": "code",
      "source": [
        "graterol_swstrs = graterol[(graterol['description'].isin(swinging_strikes))] \n",
        "graterol_swstrs.shape[0]"
      ],
      "metadata": {
        "colab": {
          "base_uri": "https://localhost:8080/"
        },
        "id": "JwyYeXpvr4Lf",
        "outputId": "6342aaa9-1e1c-453a-a068-0e1d8ade43c4"
      },
      "execution_count": 14,
      "outputs": [
        {
          "output_type": "execute_result",
          "data": {
            "text/plain": [
              "50"
            ]
          },
          "metadata": {},
          "execution_count": 14
        }
      ]
    },
    {
      "cell_type": "code",
      "source": [
        "round((100*(50/483)), 1) #SwStr Rate"
      ],
      "metadata": {
        "colab": {
          "base_uri": "https://localhost:8080/"
        },
        "id": "zXPxBhapsM6i",
        "outputId": "dd3a75d9-794f-41d2-9a20-a28688c6e511"
      },
      "execution_count": 13,
      "outputs": [
        {
          "output_type": "execute_result",
          "data": {
            "text/plain": [
              "10.4"
            ]
          },
          "metadata": {},
          "execution_count": 13
        }
      ]
    },
    {
      "cell_type": "markdown",
      "source": [
        "## On Fastballs"
      ],
      "metadata": {
        "id": "xDelnvOavOXe"
      }
    },
    {
      "cell_type": "code",
      "source": [
        "graterol_fastballs = graterol[(graterol['pitch_type'] == \"SI\")|\n",
        "                      (graterol[\"pitch_type\"] == \"FF\")|\n",
        "                      (graterol[\"pitch_type\"] == \"FC\")]\n",
        "fastballs = graterol_fastballs.shape[0]"
      ],
      "metadata": {
        "id": "LJjqA59Yn1Iy"
      },
      "execution_count": 16,
      "outputs": []
    },
    {
      "cell_type": "code",
      "source": [
        "called_strikes = graterol_fastballs[graterol_fastballs['description'] == 'called_strike'].shape[0]"
      ],
      "metadata": {
        "id": "pwY1P3MLofbJ"
      },
      "execution_count": 17,
      "outputs": []
    },
    {
      "cell_type": "code",
      "source": [
        "round(100*(called_strikes / fastballs), 1) #CStr Fastballs"
      ],
      "metadata": {
        "colab": {
          "base_uri": "https://localhost:8080/"
        },
        "id": "ULsgydfgtAWh",
        "outputId": "cff0ae3e-680d-4ce1-989f-c7ca4996ae5f"
      },
      "execution_count": 18,
      "outputs": [
        {
          "output_type": "execute_result",
          "data": {
            "text/plain": [
              "17.9"
            ]
          },
          "metadata": {},
          "execution_count": 18
        }
      ]
    },
    {
      "cell_type": "code",
      "source": [
        "sw_strikes = graterol_fastballs[(graterol_fastballs['description'].isin(swinging_strikes))].shape[0]"
      ],
      "metadata": {
        "id": "WGzzC5aQtFhA"
      },
      "execution_count": 19,
      "outputs": []
    },
    {
      "cell_type": "code",
      "source": [
        "round(100*(sw_strikes / fastballs), 1)"
      ],
      "metadata": {
        "colab": {
          "base_uri": "https://localhost:8080/"
        },
        "id": "nMof6i4QtV06",
        "outputId": "1377dc5b-7dd1-4d54-ad2b-a8160fa9dd30"
      },
      "execution_count": 20,
      "outputs": [
        {
          "output_type": "execute_result",
          "data": {
            "text/plain": [
              "7.9"
            ]
          },
          "metadata": {},
          "execution_count": 20
        }
      ]
    },
    {
      "cell_type": "code",
      "source": [
        "round(100*((called_strikes + sw_strikes)/fastballs), 1) #Fastballs "
      ],
      "metadata": {
        "colab": {
          "base_uri": "https://localhost:8080/"
        },
        "id": "fSSpinypteBy",
        "outputId": "d07fd235-5f34-4903-fedb-589fd5110de5"
      },
      "execution_count": 21,
      "outputs": [
        {
          "output_type": "execute_result",
          "data": {
            "text/plain": [
              "25.8"
            ]
          },
          "metadata": {},
          "execution_count": 21
        }
      ]
    },
    {
      "cell_type": "code",
      "source": [
        ""
      ],
      "metadata": {
        "id": "2O-envHXyXBu"
      },
      "execution_count": null,
      "outputs": []
    }
  ]
}